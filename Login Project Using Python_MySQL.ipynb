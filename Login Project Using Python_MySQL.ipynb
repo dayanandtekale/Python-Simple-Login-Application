{
 "cells": [
  {
   "cell_type": "code",
   "execution_count": 1,
   "metadata": {},
   "outputs": [],
   "source": [
    "from tkinter import *\n",
    "import sqlite3"
   ]
  },
  {
   "cell_type": "code",
   "execution_count": 2,
   "metadata": {},
   "outputs": [
    {
     "data": {
      "text/plain": [
       "''"
      ]
     },
     "execution_count": 2,
     "metadata": {},
     "output_type": "execute_result"
    }
   ],
   "source": [
    "root = Tk()\n",
    "root.title(\"Python: Simple Login Application\")\n",
    "width = 400\n",
    "height = 280\n",
    "screen_width = root.winfo_screenwidth()\n",
    "screen_height = root.winfo_screenheight()\n",
    "x = (screen_width/2) - (width/2)\n",
    "y = (screen_height/2) - (height/2)\n",
    "root.geometry(\"%dx%d+%d+%d\" % (width, height, x, y))\n",
    "root.resizable(0, 0)"
   ]
  },
  {
   "cell_type": "code",
   "execution_count": null,
   "metadata": {},
   "outputs": [],
   "source": [
    "#VARIABLES\n",
    "USERNAME = StringVar()\n",
    "PASSWORD = StringVar()\n",
    " \n",
    "#FRAMES\n",
    "Top = Frame(root, bd=2,  relief=RIDGE)\n",
    "Top.pack(side=TOP, fill=X)\n",
    "Form = Frame(root, height=200)\n",
    "Form.pack(side=TOP, pady=20)\n",
    " \n",
    "#LABELS\n",
    "lbl_title = Label(Top, text = \"Python: Simple Login Application\", font=('arial', 15))\n",
    "lbl_title.pack(fill=X)\n",
    "lbl_username = Label(Form, text = \"Username:\", font=('arial', 14), bd=15)\n",
    "lbl_username.grid(row=0, sticky=\"e\")\n",
    "lbl_password = Label(Form, text = \"Password:\", font=('arial', 14), bd=15)\n",
    "lbl_password.grid(row=1, sticky=\"e\")\n",
    "lbl_text = Label(Form)\n",
    "lbl_text.grid(row=2, columnspan=2)\n",
    " \n",
    "#ENTRY WIDGETS\n",
    "username = Entry(Form, textvariable=USERNAME, font=(14))\n",
    "username.grid(row=0, column=1)\n",
    "password = Entry(Form, textvariable=PASSWORD, show=\"*\", font=(14))\n",
    "password.grid(row=1, column=1)\n",
    "\n",
    "#database\n",
    "#METHODS\n",
    "def Database():\n",
    "    global conn, cursor\n",
    "    conn = sqlite3.connect(\"pythontut.db\")\n",
    "    cursor = conn.cursor()\n",
    "    cursor.execute(\"CREATE TABLE IF NOT EXISTS `member` (mem_id INTEGER NOT NULL PRIMARY KEY  AUTOINCREMENT, username TEXT, password TEXT)\")       \n",
    "    cursor.execute(\"SELECT * FROM `member` WHERE `username` = 'admin' AND `password` = 'dayanand'\")\n",
    "    if cursor.fetchone() is None:\n",
    "        cursor.execute(\"INSERT INTO `member` (username, password) VALUES('admin', 'dayanand')\")\n",
    "        conn.commit()\n",
    "\n",
    "\n",
    "#\n",
    "def Login(event=None):\n",
    "    Database()\n",
    "    if USERNAME.get() == \"\" or PASSWORD.get() == \"\":\n",
    "        lbl_text.config(text=\"Please complete the required field!\", fg=\"red\")\n",
    "    else:\n",
    "        cursor.execute(\"SELECT * FROM `member` WHERE `username` = ? AND `password` = ?\", (USERNAME.get(), PASSWORD.get()))\n",
    "        if cursor.fetchone() is not None:\n",
    "            HomeWindow()\n",
    "            USERNAME.set(\"\")\n",
    "            PASSWORD.set(\"\")\n",
    "            lbl_text.config(text=\"\")\n",
    "        else:\n",
    "            lbl_text.config(text=\"Invalid username or password\", fg=\"red\")\n",
    "            USERNAME.set(\"\")\n",
    "            PASSWORD.set(\"\")   \n",
    "    cursor.close()\n",
    "    conn.close()\n",
    " \n",
    "def HomeWindow():\n",
    "    global Home\n",
    "    root.withdraw()\n",
    "    Home = Toplevel()\n",
    "    Home.title(\"Python: Simple Login Application\")\n",
    "    width = 600\n",
    "    height = 500\n",
    "    screen_width = root.winfo_screenwidth()\n",
    "    screen_height = root.winfo_screenheight()\n",
    "    x = (screen_width/2) - (width/2)\n",
    "    y = (screen_height/2) - (height/2)\n",
    "    root.resizable(0, 0)\n",
    "    Home.geometry(\"%dx%d+%d+%d\" % (width, height, x, y))\n",
    "    lbl_home = Label(Home, text=\"Successfully Login!\", font=('times new roman', 20)).pack()\n",
    "    btn_back = Button(Home, text='Back', command=Back).pack(pady=20, fill=X)\n",
    " \n",
    "def Back():\n",
    "    Home.destroy()\n",
    "    root.deiconify()\n",
    " \n",
    "#BUTTON WIDGETS\n",
    "btn_login = Button(Form, text=\"Login\", width=45, command=Login)\n",
    "btn_login.grid(pady=25, row=3, columnspan=2)\n",
    "btn_login.bind('<Return>', Login)\n",
    "\n",
    "\n",
    "#INITIALIATION\n",
    "if __name__ == '__main__':\n",
    "    root.mainloop()"
   ]
  },
  {
   "cell_type": "code",
   "execution_count": null,
   "metadata": {},
   "outputs": [],
   "source": []
  },
  {
   "cell_type": "code",
   "execution_count": null,
   "metadata": {},
   "outputs": [],
   "source": []
  },
  {
   "cell_type": "code",
   "execution_count": null,
   "metadata": {},
   "outputs": [],
   "source": []
  },
  {
   "cell_type": "code",
   "execution_count": null,
   "metadata": {},
   "outputs": [],
   "source": []
  }
 ],
 "metadata": {
  "kernelspec": {
   "display_name": "Python 3",
   "language": "python",
   "name": "python3"
  },
  "language_info": {
   "codemirror_mode": {
    "name": "ipython",
    "version": 3
   },
   "file_extension": ".py",
   "mimetype": "text/x-python",
   "name": "python",
   "nbconvert_exporter": "python",
   "pygments_lexer": "ipython3",
   "version": "3.8.5"
  }
 },
 "nbformat": 4,
 "nbformat_minor": 4
}
